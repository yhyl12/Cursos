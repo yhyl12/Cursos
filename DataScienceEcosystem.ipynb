{
 "cells": [
  {
   "cell_type": "markdown",
   "metadata": {},
   "source": [
    "<center>\n",
    "    <img src=\"https://cf-courses-data.s3.us.cloud-object-storage.appdomain.cloud/IBMDeveloperSkillsNetwork-DS0105EN-SkillsNetwork/labs/Module2/images/SN_web_lightmode.png\" width=\"300\" alt=\"cognitiveclass.ai logo\">\n",
    "</center>\n"
   ]
  },
  {
   "cell_type": "markdown",
   "metadata": {},
   "source": [
    " **Ejercicio 2: Crear una celda de markdown con el titulo del cuaderno**\n",
    "\n",
    " Crea una celda de markdown con el título: *Data Science Tools and Ecosystem*  utilizando el estilo de encabezados H1."
   ]
  },
  {
   "cell_type": "markdown",
   "metadata": {},
   "source": [
    "# Data Science Tools and Ecosystem "
   ]
  },
  {
   "attachments": {},
   "cell_type": "markdown",
   "metadata": {},
   "source": [
    "**Ejercicios 3: Crear una celda de markdown para una introducción**\n",
    "\n",
    "Escribe una frase introductoria en el Jupyter Notebook."
   ]
  },
  {
   "cell_type": "markdown",
   "metadata": {},
   "source": [
    "**Respuesta:**\n",
    "\n",
    "En este cuaderno, se resumen las herramientas y ecosistemas de ciencia de datos."
   ]
  },
  {
   "cell_type": "markdown",
   "metadata": {},
   "source": [
    "**Ejercicio 10: Inserta una celda de Markdown para listar Objetivos**\n",
    "\n",
    "Debajo de la celda de introducción creada en el Ejercicio 3, inserta una nueva celda de markdown para listar los objetivos que cubre este cuaderno (es decir, algunos de los puntos clave del curso). En esta nueva celda comienza con una línea introductoria titulada: Objetivos: en fuente negrita. Luego, utilizando una lista desordenada (viñetas), indica de 3 a 5 elementos cubiertos en este cuaderno, como Listar lenguajes populares para Ciencia de Datos."
   ]
  },
  {
   "cell_type": "markdown",
   "metadata": {},
   "source": [
    "**Objetivos:**\n",
    "- Listar lenguajes populares para Ciencia de Datos\n",
    "- Practicar operaciones aritméticas en Python\n",
    "- Aprender a convertir unidades de medida (minutos a horas)\n",
    "- Dominar el uso de celdas markdown y celda de codigo en Jupyter"
   ]
  },
  {
   "cell_type": "markdown",
   "metadata": {},
   "source": [
    "**Ejercicios 4: Crear una celda de markdown para listar lenguajes de ciencia de datos**"
   ]
  },
  {
   "cell_type": "markdown",
   "metadata": {},
   "source": [
    "Algunas de los lenguajes populares que utilizan los cientificos de datos son:\n",
    "\n",
    "1. Python\n",
    "2. R\n",
    "3. SQL\n",
    "4. Java"
   ]
  },
  {
   "cell_type": "markdown",
   "metadata": {},
   "source": [
    "**Ejercicos 4: Crear una celda de markdown para listar bibliotecas de ciencia de datos**"
   ]
  },
  {
   "cell_type": "markdown",
   "metadata": {},
   "source": [
    "Algunas de las bibliotecas comúnmente utilizados por los científicos de datos incluyen:\n",
    "\n",
    "1. Pandas\n",
    "2. Numpy\n",
    "3. Matplotlib\n",
    "4. Seaborn\n",
    "5. Scikit-learn"
   ]
  },
  {
   "cell_type": "markdown",
   "metadata": {},
   "source": [
    "**Ejercicios 6: Crear una celda de markdown con una tabla de herraminentas de ciencia de datos**\n",
    "\n",
    "Crea una tabla de una sola columna en esta celda con la primera fila conteniendo eñ encabezado Herramientas de *Ciencia de datos*. Las siguientes tres filas de la tabla deben indicar tres herramientas de código abiertos del entorno de desarollo utilizados en ciencia de datos."
   ]
  },
  {
   "cell_type": "markdown",
   "metadata": {},
   "source": [
    "| Herramientas de Ciencia de Datos |\n",
    "| :--------------------------------: |\n",
    "| Jupyter Notebook |\n",
    "| RStudio |\n",
    "| Apache Spark |\n"
   ]
  },
  {
   "cell_type": "markdown",
   "metadata": {},
   "source": [
    "**Ejercicio 7: Crear una celda de markdown introduciendo ejemplo de expressions aritmeticas**\n",
    "\n",
    "Agrega una linea en esta celda con un encabezado de estilos H3."
   ]
  },
  {
   "cell_type": "markdown",
   "metadata": {},
   "source": [
    "### A continuación, se presenta algunos ejemplos de evaluación de expresiones aritméticas en Python\n",
    "\n",
    "**Operaciones básicas**\n",
    "- Suma: 7 + 2 = 9\n",
    "- Resta: 10 - 3 = 7\n",
    "- Multiplicación: 3 * 4 = 12\n",
    "- División: 27 / 3 = 9.0\n",
    "\n",
    "**Operaciones avanzadas**\n",
    "- Potenciación: 2 ** 3 = 8\n",
    "- División entera: 22 // 4 = 5\n",
    "- Módulo: 22 // 4 = 2"
   ]
  },
  {
   "cell_type": "markdown",
   "metadata": {},
   "source": [
    "**Ejercicio 8: Crear una celda de código para multiplicar y sumar números**"
   ]
  },
  {
   "cell_type": "code",
   "execution_count": null,
   "metadata": {},
   "outputs": [],
   "source": [
    "# Esta es una expresión aritméticas simple para multiplicar y luego sumar enteros.\n",
    "\n",
    "(3*4)+5"
   ]
  },
  {
   "cell_type": "markdown",
   "metadata": {},
   "source": [
    "**Ejercico 9: Crear una celda de código para convertir minutos a horas**\n",
    "\n",
    "En esta celda escibe una expressión que convierta *200 minutos* en *horas*. Inserta una linea de comentario antes de la expresión para explicar la operación."
   ]
  },
  {
   "cell_type": "code",
   "execution_count": null,
   "metadata": {},
   "outputs": [],
   "source": [
    "# Esto convertirá 200 minutos a horas dividiendo por 60.\n",
    "\n",
    "200 / 60 "
   ]
  },
  {
   "cell_type": "markdown",
   "metadata": {},
   "source": [
    "**Ejercicio 11: Crear una celda de markdown para indicar el nombre de autor**\n",
    "\n",
    "En esta celda de markdown incluye el siguiente texto *Autor* en encabezado de estilo H2. Incluye tu nombre como texto regular debajo de la palabra *Autor*."
   ]
  },
  {
   "cell_type": "markdown",
   "metadata": {},
   "source": [
    "## Autor\n",
    "Yanhong Yang"
   ]
  }
 ],
 "metadata": {
  "kernelspec": {
   "display_name": "Python 3 (ipykernel)",
   "language": "python",
   "name": "python3"
  },
  "language_info": {
   "codemirror_mode": {
    "name": "ipython",
    "version": 3
   },
   "file_extension": ".py",
   "mimetype": "text/x-python",
   "name": "python",
   "nbconvert_exporter": "python",
   "pygments_lexer": "ipython3",
   "version": "3.12.8"
  }
 },
 "nbformat": 4,
 "nbformat_minor": 4
}
